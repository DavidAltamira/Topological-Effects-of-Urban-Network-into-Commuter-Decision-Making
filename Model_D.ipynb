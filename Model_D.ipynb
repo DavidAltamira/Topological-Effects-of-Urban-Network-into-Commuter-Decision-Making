{
 "cells": [
  {
   "cell_type": "code",
   "execution_count": null,
   "metadata": {},
   "outputs": [],
   "source": [
    "class CityTrafficSimulation:\n",
    "    "
   ]
  },
  {
   "cell_type": "code",
   "execution_count": null,
   "metadata": {},
   "outputs": [],
   "source": [
    "import networkx as nx\n",
    "import matplotlib.pyplot as plt\n",
    "import random\n",
    "from matplotlib.animation import FuncAnimation\n",
    "\n",
    "def create_city_grid(size):\n",
    "    G = nx.grid_2d_graph(size, size)\n",
    "    pos = {node: (node[0], -node[1]) for node in G.nodes()}\n",
    "    return G, pos\n",
    "\n",
    "def initialize_cars(num_cars, grid_size):\n",
    "    cars = []\n",
    "    for _ in range(num_cars):\n",
    "        start = (random.randint(0, grid_size - 1), random.randint(0, grid_size - 1))\n",
    "        goal = (random.randint(0, grid_size - 1), random.randint(0, grid_size - 1))\n",
    "        cars.append({\"position\": start, \"goal\": goal})\n",
    "    return cars\n",
    "\n",
    "def move_cars(G, cars):\n",
    "    for car in cars:\n",
    "        if car[\"position\"] != car[\"goal\"]:\n",
    "            path = nx.shortest_path(G, car[\"position\"], car[\"goal\"])\n",
    "            if len(path) > 1:\n",
    "                car[\"position\"] = path[1]  # Move to the next node in path\n",
    "\n",
    "def update(frame):\n",
    "    move_cars(G, cars)\n",
    "    ax.clear()\n",
    "    nx.draw(G, pos, ax=ax, node_color='lightgray', edge_color='gray', node_size=300)\n",
    "    car_positions = [car[\"position\"] for car in cars]\n",
    "    ax.scatter([pos[p][0] for p in car_positions], [pos[p][1] for p in car_positions], c='red', marker='o', s=100)\n",
    "    ax.set_title(f'Step {frame}')\n",
    "\n",
    "def simulate_traffic(grid_size=5, num_cars=5, steps=10):\n",
    "    global G, pos, cars, ax, ani\n",
    "    G, pos = create_city_grid(grid_size)\n",
    "    cars = initialize_cars(num_cars, grid_size)\n",
    "    \n",
    "    fig, ax = plt.subplots(figsize=(6, 6))\n",
    "    ani = FuncAnimation(fig, update, frames=steps, repeat=False, interval=500)\n",
    "    plt.draw()\n",
    "    plt.show()\n",
    "    \n",
    "simulate_traffic(grid_size=6, num_cars=8, steps=15)"
   ]
  }
 ],
 "metadata": {
  "language_info": {
   "name": "python"
  }
 },
 "nbformat": 4,
 "nbformat_minor": 2
}
